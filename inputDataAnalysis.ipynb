{
  "nbformat": 4,
  "nbformat_minor": 2,
  "metadata": {
    "colab": {
      "name": "inputDataAnalysis.ipynb",
      "provenance": [],
      "collapsed_sections": []
    },
    "kernelspec": {
      "name": "python3",
      "display_name": "Python 3.9.5 64-bit ('tensorflow': conda)"
    },
    "language_info": {
      "name": "python",
      "version": "3.9.5",
      "mimetype": "text/x-python",
      "codemirror_mode": {
        "name": "ipython",
        "version": 3
      },
      "pygments_lexer": "ipython3",
      "nbconvert_exporter": "python",
      "file_extension": ".py"
    },
    "interpreter": {
      "hash": "4babd69ab0111a20be280cfef5fcdaffd1e48abd1842a701b5504d15cd56c7f4"
    }
  },
  "cells": [
    {
      "cell_type": "markdown",
      "source": [
        "Dataset: https://www.kaggle.com/c/house-prices-advanced-regression-techniques\r\n",
        "\r\n",
        "Subsest of colums used for example: LotArea\tOverallQual\tYearBuilt\tRoofStyle\tCentralAir\tSalePrice.\r\n",
        "\r\n",
        "Data are interpreted as continuos and categorical variables\r\n"
      ],
      "metadata": {
        "id": "tsVbmUIoQtED"
      }
    },
    {
      "cell_type": "code",
      "execution_count": 46,
      "source": [
        "# importing necessary librarys\r\n",
        "import numpy as np\r\n",
        "import csv\r\n",
        "import matplotlib.pyplot as plt\r\n",
        "import pandas as pd"
      ],
      "outputs": [],
      "metadata": {
        "id": "rWnfm3CCPgMz"
      }
    },
    {
      "cell_type": "code",
      "execution_count": 47,
      "source": [
        "# reading given data and visualizing it\r\n",
        "df = pd.read_csv(\"train.csv\",sep=',')\r\n",
        "df.head()"
      ],
      "outputs": [
        {
          "output_type": "execute_result",
          "data": {
            "text/html": [
              "<div>\n",
              "<style scoped>\n",
              "    .dataframe tbody tr th:only-of-type {\n",
              "        vertical-align: middle;\n",
              "    }\n",
              "\n",
              "    .dataframe tbody tr th {\n",
              "        vertical-align: top;\n",
              "    }\n",
              "\n",
              "    .dataframe thead th {\n",
              "        text-align: right;\n",
              "    }\n",
              "</style>\n",
              "<table border=\"1\" class=\"dataframe\">\n",
              "  <thead>\n",
              "    <tr style=\"text-align: right;\">\n",
              "      <th></th>\n",
              "      <th>Id</th>\n",
              "      <th>LotArea</th>\n",
              "      <th>Utilities</th>\n",
              "      <th>HouseStyle</th>\n",
              "      <th>OverallQual</th>\n",
              "      <th>OverallCond</th>\n",
              "      <th>YearRemodAdd</th>\n",
              "      <th>HeatingQC</th>\n",
              "      <th>KitchenQual</th>\n",
              "      <th>Functional</th>\n",
              "      <th>GarageType</th>\n",
              "      <th>SaleType</th>\n",
              "      <th>SalePrice</th>\n",
              "    </tr>\n",
              "  </thead>\n",
              "  <tbody>\n",
              "    <tr>\n",
              "      <th>0</th>\n",
              "      <td>1</td>\n",
              "      <td>8450</td>\n",
              "      <td>AllPub</td>\n",
              "      <td>2Story</td>\n",
              "      <td>7</td>\n",
              "      <td>5</td>\n",
              "      <td>2003</td>\n",
              "      <td>Ex</td>\n",
              "      <td>Gd</td>\n",
              "      <td>Typ</td>\n",
              "      <td>Attchd</td>\n",
              "      <td>WD</td>\n",
              "      <td>208500</td>\n",
              "    </tr>\n",
              "    <tr>\n",
              "      <th>1</th>\n",
              "      <td>2</td>\n",
              "      <td>9600</td>\n",
              "      <td>AllPub</td>\n",
              "      <td>1Story</td>\n",
              "      <td>6</td>\n",
              "      <td>8</td>\n",
              "      <td>1976</td>\n",
              "      <td>Ex</td>\n",
              "      <td>TA</td>\n",
              "      <td>Typ</td>\n",
              "      <td>Attchd</td>\n",
              "      <td>WD</td>\n",
              "      <td>181500</td>\n",
              "    </tr>\n",
              "    <tr>\n",
              "      <th>2</th>\n",
              "      <td>3</td>\n",
              "      <td>11250</td>\n",
              "      <td>AllPub</td>\n",
              "      <td>2Story</td>\n",
              "      <td>7</td>\n",
              "      <td>5</td>\n",
              "      <td>2002</td>\n",
              "      <td>Ex</td>\n",
              "      <td>Gd</td>\n",
              "      <td>Typ</td>\n",
              "      <td>Attchd</td>\n",
              "      <td>WD</td>\n",
              "      <td>223500</td>\n",
              "    </tr>\n",
              "    <tr>\n",
              "      <th>3</th>\n",
              "      <td>4</td>\n",
              "      <td>9550</td>\n",
              "      <td>AllPub</td>\n",
              "      <td>2Story</td>\n",
              "      <td>7</td>\n",
              "      <td>5</td>\n",
              "      <td>1970</td>\n",
              "      <td>Gd</td>\n",
              "      <td>Gd</td>\n",
              "      <td>Typ</td>\n",
              "      <td>Detchd</td>\n",
              "      <td>WD</td>\n",
              "      <td>140000</td>\n",
              "    </tr>\n",
              "    <tr>\n",
              "      <th>4</th>\n",
              "      <td>5</td>\n",
              "      <td>14260</td>\n",
              "      <td>AllPub</td>\n",
              "      <td>2Story</td>\n",
              "      <td>8</td>\n",
              "      <td>5</td>\n",
              "      <td>2000</td>\n",
              "      <td>Ex</td>\n",
              "      <td>Gd</td>\n",
              "      <td>Typ</td>\n",
              "      <td>Attchd</td>\n",
              "      <td>WD</td>\n",
              "      <td>250000</td>\n",
              "    </tr>\n",
              "  </tbody>\n",
              "</table>\n",
              "</div>"
            ],
            "text/plain": [
              "   Id  LotArea Utilities HouseStyle  OverallQual  OverallCond  YearRemodAdd  \\\n",
              "0   1     8450    AllPub     2Story            7            5          2003   \n",
              "1   2     9600    AllPub     1Story            6            8          1976   \n",
              "2   3    11250    AllPub     2Story            7            5          2002   \n",
              "3   4     9550    AllPub     2Story            7            5          1970   \n",
              "4   5    14260    AllPub     2Story            8            5          2000   \n",
              "\n",
              "  HeatingQC KitchenQual Functional GarageType SaleType  SalePrice  \n",
              "0        Ex          Gd        Typ     Attchd       WD     208500  \n",
              "1        Ex          TA        Typ     Attchd       WD     181500  \n",
              "2        Ex          Gd        Typ     Attchd       WD     223500  \n",
              "3        Gd          Gd        Typ     Detchd       WD     140000  \n",
              "4        Ex          Gd        Typ     Attchd       WD     250000  "
            ]
          },
          "metadata": {},
          "execution_count": 47
        }
      ],
      "metadata": {
        "id": "a6cm1vQM1U6y",
        "colab": {
          "base_uri": "https://localhost:8080/",
          "height": 206
        },
        "outputId": "4c298a2f-05e4-4fbb-861b-b80593159f0e"
      }
    },
    {
      "cell_type": "markdown",
      "source": [
        "----\r\n",
        "LotArea (numeric / continuous) - Nurodomas koks yra nekilnojamo turto plotas.\r\n",
        "\r\n",
        "Utilities (categorical / categorical) - Teikiamos miesto paslaugos (Elektra, šildymas, vandentiekis).\r\n",
        "\r\n",
        "HouseStyle (categorical / categorical) - Būsto tipas. Nusako kelių aukštų, butas ar namas.\r\n",
        "\r\n",
        "OverallQual (numeric / continuous) - Pasitenkinimo skalė dešimtbalėje sistemoje.\r\n",
        "\r\n",
        "OverallCond (numeric / continuous) - Būsto būklė dešimtbalėje skalėje.\r\n",
        "\r\n",
        "YearRemodAdd (numeric / continuous) -  Nurodomi metai, kada buvo renovuotas būstas. Jeigu nebuvo renovuotas - nurodomi pastatymo metai.\r\n",
        "\r\n",
        "HeatingQC (categorical / categorical) - Namo apšiltinimo kokybė.\r\n",
        "\r\n",
        "KitchenQual (categorical / categorical) - Nurodoma virtuvės būklė.\r\n",
        "\r\n",
        "Functional (categorical / categorical) - Nurodomas būsto funkcionalumas.\r\n",
        "\r\n",
        "GarageType (categorical / categorical) - Nurodomas garažo tipas ir ar yra garažas.\r\n",
        "\r\n",
        "SaleType (categorical / categorical) - Nurodoma koks buvo pardavimo tipas.\r\n",
        "\r\n",
        "Target: SalePrice (numeric / continuous) - Kaina už kurią buvo parduotas butas.\r\n",
        "\r\n",
        "----"
      ],
      "metadata": {
        "id": "Bcy97TivUjqA"
      }
    },
    {
      "cell_type": "markdown",
      "source": [
        "***LotArea***"
      ],
      "metadata": {
        "id": "y80gf1vuBRmx"
      }
    },
    {
      "cell_type": "code",
      "execution_count": 48,
      "source": [
        "# LotaArea analysis\r\n",
        "df.hist(column=['LotArea'])"
      ],
      "outputs": [
        {
          "output_type": "execute_result",
          "data": {
            "text/plain": [
              "array([[<AxesSubplot:title={'center':'LotArea'}>]], dtype=object)"
            ]
          },
          "metadata": {},
          "execution_count": 48
        },
        {
          "output_type": "display_data",
          "data": {
            "image/png": "[encoded data removed]",
            "text/plain": [
              "<Figure size 432x288 with 1 Axes>"
            ]
          },
          "metadata": {
            "needs_background": "light"
          }
        }
      ],
      "metadata": {
        "id": "gj3Rzlfp5Xmp",
        "colab": {
          "base_uri": "https://localhost:8080/",
          "height": 317
        },
        "outputId": "be7bcf6e-7547-48d3-963f-195f6ac50d24"
      }
    },
    {
      "cell_type": "code",
      "execution_count": 49,
      "source": [
        "df.boxplot(column=['LotArea'])"
      ],
      "outputs": [
        {
          "output_type": "execute_result",
          "data": {
            "text/plain": [
              "<AxesSubplot:>"
            ]
          },
          "metadata": {},
          "execution_count": 49
        },
        {
          "output_type": "display_data",
          "data": {
            "image/png": "[encoded data removed]",
            "text/plain": [
              "<Figure size 432x288 with 1 Axes>"
            ]
          },
          "metadata": {
            "needs_background": "light"
          }
        }
      ],
      "metadata": {
        "id": "IvlqlNIIBLg2",
        "colab": {
          "base_uri": "https://localhost:8080/",
          "height": 283
        },
        "outputId": "500c2c86-d92e-452f-fc2b-1c78d64676c8"
      }
    },
    {
      "cell_type": "markdown",
      "source": [
        "There are several options how to fix data. \n",
        "   * remove entire records with outlier from dataset\n",
        "   * assign valid upper bound value to the outliers (clamp transformation)\n",
        "   * other\n",
        "   \n",
        "The option can be selected based on the practice and logical insigts, but at scrupulous scenario many options can be analysed and the most appropriate one selected."
      ],
      "metadata": {
        "id": "LKyiwKJz-tDI"
      }
    },
    {
      "cell_type": "code",
      "execution_count": 50,
      "source": [
        "# let's use the clamp transformation in this example  \r\n",
        "\r\n",
        "Q1 = df['LotArea'].quantile(0.25)\r\n",
        "Q3 = df['LotArea'].quantile(0.75)\r\n",
        "IQR = Q3 - Q1    #IQR is interquartile range. \r\n",
        "\r\n",
        "upperFilter = (df['LotArea'] >= Q3 + 1.5 *IQR)\r\n",
        "lowerFilter = (df['LotArea'] <= Q1 - 1.5 *IQR)\r\n",
        "df.loc[upperFilter,['LotArea']]  = Q3 + 1.5 *IQR\r\n",
        "df.loc[lowerFilter,['LotArea']]  = Q1 - 1.5 *IQR"
      ],
      "outputs": [],
      "metadata": {
        "id": "wl4BINJq7XxA"
      }
    },
    {
      "cell_type": "markdown",
      "source": [
        "It must be noted, that same transformation must be applied to the original model, before passing the new data instance to decision making model.\n",
        "\n",
        "Also, in real life applications, an option should be considered to perform data validation and inform user or forward exception, that in case of outliers data prediction model may work inapropriate.\n"
      ],
      "metadata": {
        "id": "SL1O0e9YFMO8"
      }
    },
    {
      "cell_type": "code",
      "execution_count": 51,
      "source": [
        "df.boxplot(column=['LotArea'])\r\n",
        "df.hist(column=['LotArea'])"
      ],
      "outputs": [
        {
          "output_type": "execute_result",
          "data": {
            "text/plain": [
              "array([[<AxesSubplot:title={'center':'LotArea'}>]], dtype=object)"
            ]
          },
          "metadata": {},
          "execution_count": 51
        },
        {
          "output_type": "display_data",
          "data": {
            "image/png": "[encoded data removed]",
            "text/plain": [
              "<Figure size 432x288 with 1 Axes>"
            ]
          },
          "metadata": {
            "needs_background": "light"
          }
        },
        {
          "output_type": "display_data",
          "data": {
            "image/png": "[encoded data removed]",
            "text/plain": [
              "<Figure size 432x288 with 1 Axes>"
            ]
          },
          "metadata": {
            "needs_background": "light"
          }
        }
      ],
      "metadata": {
        "id": "ZdX3Z99z_PQf",
        "colab": {
          "base_uri": "https://localhost:8080/",
          "height": 565
        },
        "outputId": "2f514236-dac2-4cd0-8fdb-1cbda059b96e"
      }
    },
    {
      "cell_type": "code",
      "execution_count": 52,
      "source": [
        "standartizedDf=(df['LotArea']-df['LotArea'].mean())/df['LotArea'].std()\r\n",
        "standartizedDf.hist()"
      ],
      "outputs": [
        {
          "output_type": "execute_result",
          "data": {
            "text/plain": [
              "<AxesSubplot:>"
            ]
          },
          "metadata": {},
          "execution_count": 52
        },
        {
          "output_type": "display_data",
          "data": {
            "image/png": "[encoded data removed]",
            "text/plain": [
              "<Figure size 432x288 with 1 Axes>"
            ]
          },
          "metadata": {
            "needs_background": "light"
          }
        }
      ],
      "metadata": {
        "id": "_9XgtjDLJnHD",
        "colab": {
          "base_uri": "https://localhost:8080/",
          "height": 283
        },
        "outputId": "a21f0c78-edfd-4abf-fc43-c32867dee9db"
      }
    },
    {
      "cell_type": "markdown",
      "source": [
        "Normalized"
      ],
      "metadata": {
        "id": "PwETdybCPGk5"
      }
    },
    {
      "cell_type": "code",
      "execution_count": 53,
      "source": [
        "normalizedDf=(df['LotArea']-df['LotArea'].min())/(df['LotArea'].max()-df['LotArea'].min())\r\n",
        "normalizedDf.hist()"
      ],
      "outputs": [
        {
          "output_type": "execute_result",
          "data": {
            "text/plain": [
              "<AxesSubplot:>"
            ]
          },
          "metadata": {},
          "execution_count": 53
        },
        {
          "output_type": "display_data",
          "data": {
            "image/png": "[encoded data removed]",
            "text/plain": [
              "<Figure size 432x288 with 1 Axes>"
            ]
          },
          "metadata": {
            "needs_background": "light"
          }
        }
      ],
      "metadata": {
        "id": "Neb0n5MyLrZJ",
        "colab": {
          "base_uri": "https://localhost:8080/",
          "height": 283
        },
        "outputId": "2eeb10b4-c969-4fc2-d6e3-b22bb9a8f95e"
      }
    },
    {
      "cell_type": "markdown",
      "source": [
        "***'Utilities'***"
      ],
      "metadata": {}
    },
    {
      "cell_type": "code",
      "execution_count": 54,
      "source": [
        "#df.boxplot(column=['Utilities'])\r\n",
        "#df.hist(column=['Utilities'])\r\n",
        "print(df.groupby(['Utilities']).size().reset_index(name = 'counts'))"
      ],
      "outputs": [
        {
          "output_type": "stream",
          "name": "stdout",
          "text": [
            "  Utilities  counts\n",
            "0    AllPub    1459\n",
            "1    NoSeWa       1\n"
          ]
        }
      ],
      "metadata": {}
    },
    {
      "cell_type": "markdown",
      "source": [
        "Kadangi matome, kad yra 2 klasės, tačiau vienoje jų yra tik 1 įrašas. Šių duomenų tyrime nenaudosime."
      ],
      "metadata": {}
    },
    {
      "cell_type": "markdown",
      "source": [
        "***HouseStyle***"
      ],
      "metadata": {}
    },
    {
      "cell_type": "code",
      "execution_count": 55,
      "source": [
        "print(df.groupby(['HouseStyle']).size().reset_index(name = 'counts'))"
      ],
      "outputs": [
        {
          "output_type": "stream",
          "name": "stdout",
          "text": [
            "  HouseStyle  counts\n",
            "0     1.5Fin     154\n",
            "1     1.5Unf      14\n",
            "2     1Story     726\n",
            "3     2.5Fin       8\n",
            "4     2.5Unf      11\n",
            "5     2Story     445\n",
            "6     SFoyer      37\n",
            "7       SLvl      65\n"
          ]
        }
      ],
      "metadata": {}
    },
    {
      "cell_type": "markdown",
      "source": [
        "Atlikus \"HouseStyle\" kategorinių duomneų analizę matoma, kad yra 7 klasės, o įrašų kiekvienoje iš jų yra ne mažai, todėl verta naudoti šiuos duomenis tyrimui."
      ],
      "metadata": {}
    },
    {
      "cell_type": "markdown",
      "source": [
        "***`OverallQual`***"
      ],
      "metadata": {
        "id": "fcNSrJM9PRBa"
      }
    },
    {
      "cell_type": "code",
      "execution_count": 56,
      "source": [
        "#df.hist(column=['OverallQual'])\r\n",
        "df.boxplot(column=['OverallQual'])\r\n",
        "df.hist(column=['OverallQual'])\r\n",
        "print(df.groupby(['OverallQual']).size().reset_index(name = 'counts'))\r\n",
        "print(df.describe())"
      ],
      "outputs": [
        {
          "output_type": "stream",
          "name": "stdout",
          "text": [
            "   OverallQual  counts\n",
            "0            1       2\n",
            "1            2       3\n",
            "2            3      20\n",
            "3            4     116\n",
            "4            5     397\n",
            "5            6     374\n",
            "6            7     319\n",
            "7            8     168\n",
            "8            9      43\n",
            "9           10      18\n",
            "                Id       LotArea  OverallQual  OverallCond  YearRemodAdd  \\\n",
            "count  1460.000000   1460.000000  1460.000000  1460.000000   1460.000000   \n",
            "mean    730.500000   9647.388014     6.099315     5.575342   1984.865753   \n",
            "std     421.610009   3594.356399     1.382997     1.112799     20.645407   \n",
            "min       1.000000   1481.500000     1.000000     1.000000   1950.000000   \n",
            "25%     365.750000   7553.500000     5.000000     5.000000   1967.000000   \n",
            "50%     730.500000   9478.500000     6.000000     5.000000   1994.000000   \n",
            "75%    1095.250000  11601.500000     7.000000     6.000000   2004.000000   \n",
            "max    1460.000000  17673.500000    10.000000     9.000000   2010.000000   \n",
            "\n",
            "           SalePrice  \n",
            "count    1460.000000  \n",
            "mean   180921.195890  \n",
            "std     79442.502883  \n",
            "min     34900.000000  \n",
            "25%    129975.000000  \n",
            "50%    163000.000000  \n",
            "75%    214000.000000  \n",
            "max    755000.000000  \n"
          ]
        },
        {
          "output_type": "display_data",
          "data": {
            "image/png": "[encoded data removed]",
            "text/plain": [
              "<Figure size 432x288 with 1 Axes>"
            ]
          },
          "metadata": {
            "needs_background": "light"
          }
        },
        {
          "output_type": "display_data",
          "data": {
            "image/png": "[encoded data removed]",
            "text/plain": [
              "<Figure size 432x288 with 1 Axes>"
            ]
          },
          "metadata": {
            "needs_background": "light"
          }
        }
      ],
      "metadata": {
        "id": "HIz1QM8gPb-w",
        "colab": {
          "base_uri": "https://localhost:8080/",
          "height": 892
        },
        "outputId": "89b52582-9e32-4720-e3bf-7d4d339dbf3a"
      }
    },
    {
      "cell_type": "markdown",
      "source": [
        "***OverallCond***"
      ],
      "metadata": {}
    },
    {
      "cell_type": "code",
      "execution_count": 57,
      "source": [
        "df.boxplot(column=['OverallCond'])\r\n",
        "df.hist(column=['OverallCond'])\r\n",
        "print(df.groupby(['OverallCond']).size().reset_index(name = 'counts'))"
      ],
      "outputs": [
        {
          "output_type": "stream",
          "name": "stdout",
          "text": [
            "   OverallCond  counts\n",
            "0            1       1\n",
            "1            2       5\n",
            "2            3      25\n",
            "3            4      57\n",
            "4            5     821\n",
            "5            6     252\n",
            "6            7     205\n",
            "7            8      72\n",
            "8            9      22\n"
          ]
        },
        {
          "output_type": "display_data",
          "data": {
            "image/png": "[encoded data removed]",
            "text/plain": [
              "<Figure size 432x288 with 1 Axes>"
            ]
          },
          "metadata": {
            "needs_background": "light"
          }
        },
        {
          "output_type": "display_data",
          "data": {
            "image/png": "[encoded data removed]",
            "text/plain": [
              "<Figure size 432x288 with 1 Axes>"
            ]
          },
          "metadata": {
            "needs_background": "light"
          }
        }
      ],
      "metadata": {}
    },
    {
      "cell_type": "markdown",
      "source": [
        "Peržiūrėjus 'OveralCond' duomenis matome, kad duomenų pasiskirstymas yra pakankamas juos naudoti tyrimui."
      ],
      "metadata": {}
    },
    {
      "cell_type": "markdown",
      "source": [
        "***YearRemodAdd***"
      ],
      "metadata": {}
    },
    {
      "cell_type": "code",
      "execution_count": 58,
      "source": [
        "df.boxplot(column=['YearRemodAdd'])\r\n",
        "df.hist(column=['YearRemodAdd'])\r\n",
        "print(df.groupby(['YearRemodAdd']).size().reset_index(name = 'counts'))"
      ],
      "outputs": [
        {
          "output_type": "stream",
          "name": "stdout",
          "text": [
            "    YearRemodAdd  counts\n",
            "0           1950     178\n",
            "1           1951       4\n",
            "2           1952       5\n",
            "3           1953      10\n",
            "4           1954      14\n",
            "..           ...     ...\n",
            "56          2006      97\n",
            "57          2007      76\n",
            "58          2008      40\n",
            "59          2009      23\n",
            "60          2010       6\n",
            "\n",
            "[61 rows x 2 columns]\n"
          ]
        },
        {
          "output_type": "display_data",
          "data": {
            "image/png": "[encoded data removed]",
            "text/plain": [
              "<Figure size 432x288 with 1 Axes>"
            ]
          },
          "metadata": {
            "needs_background": "light"
          }
        },
        {
          "output_type": "display_data",
          "data": {
            "image/png": "[encoded data removed]",
            "text/plain": [
              "<Figure size 432x288 with 1 Axes>"
            ]
          },
          "metadata": {
            "needs_background": "light"
          }
        }
      ],
      "metadata": {}
    },
    {
      "cell_type": "markdown",
      "source": [
        "Iš šių duomenų statistikos matome, kad nėra labai didelių duomenų reikšmių kiekio nuokrypių, todėl nereikia taikyti reikšmių koregavimo. Tačiau reikia atlikti duomenų stadartizavimą arba normalizavimą."
      ],
      "metadata": {}
    },
    {
      "cell_type": "markdown",
      "source": [
        "Standartizuoti duomenys"
      ],
      "metadata": {}
    },
    {
      "cell_type": "code",
      "execution_count": 59,
      "source": [
        "standartizedDf=(df['YearRemodAdd']-df['YearRemodAdd'].mean())/df['YearRemodAdd'].std()\r\n",
        "standartizedDf.hist()"
      ],
      "outputs": [
        {
          "output_type": "execute_result",
          "data": {
            "text/plain": [
              "<AxesSubplot:>"
            ]
          },
          "metadata": {},
          "execution_count": 59
        },
        {
          "output_type": "display_data",
          "data": {
            "image/png": "[encoded data removed]",
            "text/plain": [
              "<Figure size 432x288 with 1 Axes>"
            ]
          },
          "metadata": {
            "needs_background": "light"
          }
        }
      ],
      "metadata": {}
    },
    {
      "cell_type": "markdown",
      "source": [
        "Normalizuoti duomenys"
      ],
      "metadata": {}
    },
    {
      "cell_type": "code",
      "execution_count": 60,
      "source": [
        "normalizedDf=(df['YearRemodAdd']-df['YearRemodAdd'].min())/(df['YearRemodAdd'].max()-df['YearRemodAdd'].min())\r\n",
        "normalizedDf.hist()"
      ],
      "outputs": [
        {
          "output_type": "execute_result",
          "data": {
            "text/plain": [
              "<AxesSubplot:>"
            ]
          },
          "metadata": {},
          "execution_count": 60
        },
        {
          "output_type": "display_data",
          "data": {
            "image/png": "[encoded data removed]",
            "text/plain": [
              "<Figure size 432x288 with 1 Axes>"
            ]
          },
          "metadata": {
            "needs_background": "light"
          }
        }
      ],
      "metadata": {}
    },
    {
      "cell_type": "markdown",
      "source": [
        "***HeatingQC***"
      ],
      "metadata": {}
    },
    {
      "cell_type": "code",
      "execution_count": 61,
      "source": [
        "print(df.groupby(['HeatingQC']).size().reset_index(name = 'counts'))"
      ],
      "outputs": [
        {
          "output_type": "stream",
          "name": "stdout",
          "text": [
            "  HeatingQC  counts\n",
            "0        Ex     741\n",
            "1        Fa      49\n",
            "2        Gd     241\n",
            "3        Po       1\n",
            "4        TA     428\n"
          ]
        }
      ],
      "metadata": {}
    },
    {
      "cell_type": "markdown",
      "source": [
        "Šiuos duomenis būtų galima konvertuoti į skaitines reikšmes 5 balų skalėje. 5 - Ex, Gd - 4, TA - 3, Fa - 2, Po - 1. Duomenys yra pakankamai pasiskirstę ir neturi didelių nuokrypių. Todėl juos galima naudoti tyime."
      ],
      "metadata": {}
    },
    {
      "cell_type": "code",
      "execution_count": 62,
      "source": [
        "df = df.replace(['Ex', 'Gd', 'TA', 'Fa', 'Po'], [5,4,3,2,1], )\r\n",
        "print(df.groupby(['HeatingQC']).size().reset_index(name = 'counts'))"
      ],
      "outputs": [
        {
          "output_type": "stream",
          "name": "stdout",
          "text": [
            "   HeatingQC  counts\n",
            "0          1       1\n",
            "1          2      49\n",
            "2          3     428\n",
            "3          4     241\n",
            "4          5     741\n"
          ]
        }
      ],
      "metadata": {}
    },
    {
      "cell_type": "markdown",
      "source": [
        "Konvertavus šiuos duomenis galima pritaikyti tolydžių duomenų analizavimo metodus."
      ],
      "metadata": {}
    },
    {
      "cell_type": "code",
      "execution_count": 63,
      "source": [
        "df.boxplot(column=['HeatingQC'])\r\n",
        "df.hist(column=['HeatingQC'])"
      ],
      "outputs": [
        {
          "output_type": "execute_result",
          "data": {
            "text/plain": [
              "array([[<AxesSubplot:title={'center':'HeatingQC'}>]], dtype=object)"
            ]
          },
          "metadata": {},
          "execution_count": 63
        },
        {
          "output_type": "display_data",
          "data": {
            "image/png": "[encoded data removed]",
            "text/plain": [
              "<Figure size 432x288 with 1 Axes>"
            ]
          },
          "metadata": {
            "needs_background": "light"
          }
        },
        {
          "output_type": "display_data",
          "data": {
            "image/png": "[encoded data removed]",
            "text/plain": [
              "<Figure size 432x288 with 1 Axes>"
            ]
          },
          "metadata": {
            "needs_background": "light"
          }
        }
      ],
      "metadata": {}
    },
    {
      "cell_type": "markdown",
      "source": [
        "Iš histogramos matome, kad duomenų pasiskirstymas yra eksponentinis."
      ],
      "metadata": {}
    },
    {
      "cell_type": "markdown",
      "source": [
        "***KitchenQual***"
      ],
      "metadata": {}
    },
    {
      "cell_type": "code",
      "execution_count": 64,
      "source": [
        "print(df.groupby(['KitchenQual']).size().reset_index(name = 'counts'))"
      ],
      "outputs": [
        {
          "output_type": "stream",
          "name": "stdout",
          "text": [
            "   KitchenQual  counts\n",
            "0            2      39\n",
            "1            3     735\n",
            "2            4     586\n",
            "3            5     100\n"
          ]
        }
      ],
      "metadata": {}
    },
    {
      "cell_type": "markdown",
      "source": [
        "Šiuos duomenis būtų galima konvertuoti į skaitines reikšmes 4 balų skalėje. 4 - Ex, Gd - 3, TA - 2, Fa - 1. Duomenys yra pakankamai pasiskirstę ir neturi didelių nuokrypių. Todėl juos galima naudoti tyime."
      ],
      "metadata": {}
    },
    {
      "cell_type": "code",
      "execution_count": 65,
      "source": [
        "df.boxplot(column=['KitchenQual'])\r\n",
        "df.hist(column=['KitchenQual'])"
      ],
      "outputs": [
        {
          "output_type": "execute_result",
          "data": {
            "text/plain": [
              "array([[<AxesSubplot:title={'center':'KitchenQual'}>]], dtype=object)"
            ]
          },
          "metadata": {},
          "execution_count": 65
        },
        {
          "output_type": "display_data",
          "data": {
            "image/png": "[encoded data removed]",
            "text/plain": [
              "<Figure size 432x288 with 1 Axes>"
            ]
          },
          "metadata": {
            "needs_background": "light"
          }
        },
        {
          "output_type": "display_data",
          "data": {
            "image/png": "[encoded data removed]",
            "text/plain": [
              "<Figure size 432x288 with 1 Axes>"
            ]
          },
          "metadata": {
            "needs_background": "light"
          }
        }
      ],
      "metadata": {}
    },
    {
      "cell_type": "markdown",
      "source": [
        "Iš histogramos matome, kad duomenų pasiskirstymas yra normalus."
      ],
      "metadata": {}
    },
    {
      "cell_type": "markdown",
      "source": [
        "***Functional***"
      ],
      "metadata": {}
    },
    {
      "cell_type": "code",
      "execution_count": 66,
      "source": [
        "print(df.groupby(['Functional']).size().reset_index(name = 'counts'))"
      ],
      "outputs": [
        {
          "output_type": "stream",
          "name": "stdout",
          "text": [
            "  Functional  counts\n",
            "0       Maj1      14\n",
            "1       Maj2       5\n",
            "2       Min1      31\n",
            "3       Min2      34\n",
            "4        Mod      15\n",
            "5        Sev       1\n",
            "6        Typ    1360\n"
          ]
        }
      ],
      "metadata": {}
    },
    {
      "cell_type": "markdown",
      "source": [
        "Reikšmės yra sąlyginai mažai pasiskirstę, todėl šių duomenų neverta naudoti tyrime."
      ],
      "metadata": {}
    },
    {
      "cell_type": "markdown",
      "source": [
        "***GarageType***"
      ],
      "metadata": {}
    },
    {
      "cell_type": "code",
      "execution_count": 67,
      "source": [
        "print(df.groupby(['GarageType']).size().reset_index(name = 'counts'))"
      ],
      "outputs": [
        {
          "output_type": "stream",
          "name": "stdout",
          "text": [
            "  GarageType  counts\n",
            "0     2Types       6\n",
            "1     Attchd     870\n",
            "2    Basment      19\n",
            "3    BuiltIn      88\n",
            "4    CarPort       9\n",
            "5     Detchd     387\n"
          ]
        }
      ],
      "metadata": {}
    },
    {
      "cell_type": "markdown",
      "source": [
        "Reikšmės yra gerai pasiskirstę. Duomenis galima naudoti tyrime."
      ],
      "metadata": {}
    },
    {
      "cell_type": "markdown",
      "source": [
        "***SaleType***"
      ],
      "metadata": {}
    },
    {
      "cell_type": "code",
      "execution_count": 68,
      "source": [
        "print(df.groupby(['SaleType']).size().reset_index(name = 'counts'))"
      ],
      "outputs": [
        {
          "output_type": "stream",
          "name": "stdout",
          "text": [
            "  SaleType  counts\n",
            "0      COD      43\n",
            "1      CWD       4\n",
            "2      Con       2\n",
            "3    ConLD       9\n",
            "4    ConLI       5\n",
            "5    ConLw       5\n",
            "6      New     122\n",
            "7      Oth       3\n",
            "8       WD    1267\n"
          ]
        }
      ],
      "metadata": {}
    },
    {
      "cell_type": "markdown",
      "source": [
        "Duomenys yra mažai pasiskirstę, tyimo metu neverta naudoti."
      ],
      "metadata": {}
    },
    {
      "cell_type": "markdown",
      "source": [
        "***SalePrice (Target)***"
      ],
      "metadata": {}
    },
    {
      "cell_type": "code",
      "execution_count": 69,
      "source": [
        "df.hist(column = ['SalePrice'])\r\n",
        "df.boxplot(column = ['SalePrice'])"
      ],
      "outputs": [
        {
          "output_type": "execute_result",
          "data": {
            "text/plain": [
              "<AxesSubplot:title={'center':'SalePrice'}>"
            ]
          },
          "metadata": {},
          "execution_count": 69
        },
        {
          "output_type": "display_data",
          "data": {
            "image/png": "[encoded data removed]",
            "text/plain": [
              "<Figure size 432x288 with 1 Axes>"
            ]
          },
          "metadata": {
            "needs_background": "light"
          }
        }
      ],
      "metadata": {}
    },
    {
      "cell_type": "markdown",
      "source": [
        "TODO:\n",
        "*   Make analysis of the rest variables\n",
        "*   Perform data limitation / model limitation report.\n",
        "*   Fill Data quality reports\n",
        "\n",
        "\n"
      ],
      "metadata": {
        "id": "Ym8DyBFORXj3"
      }
    }
  ]
}